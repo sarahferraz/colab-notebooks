{
  "cells": [
    {
      "cell_type": "code",
      "execution_count": 1,
      "metadata": {
        "id": "HZ4zarbTCpch"
      },
      "outputs": [
        {
          "name": "stdout",
          "output_type": "stream",
          "text": [
            "NumPy e Pandas funcionando!\n"
          ]
        }
      ],
      "source": [
        "import numpy as np\n",
        "import pandas as pd\n",
        "print(\"NumPy e Pandas funcionando!\")"
      ]
    },
    {
      "cell_type": "code",
      "execution_count": 2,
      "metadata": {
        "colab": {
          "base_uri": "https://localhost:8080/",
          "height": 186
        },
        "id": "466fjZ95DUZO",
        "outputId": "629d6d8c-63ca-44af-d1b4-c80b796d6c4e"
      },
      "outputs": [
        {
          "data": {
            "text/plain": [
              "<bound method NDFrame.head of      User ID  Area code            Location  Gender   YOB Marital Status  \\\n",
              "0          1        153  Upper East Side,NY  Female  2006         Single   \n",
              "1          2        123       St. George,NY  Female  1991        Married   \n",
              "2          3        122  Upper West Side,NY    Male  1977         Single   \n",
              "3          4        153  Upper East Side,NY  Female  1956        Married   \n",
              "4          5        129     Central Park,NY    Male  1997         Single   \n",
              "..       ...        ...                 ...     ...   ...            ...   \n",
              "195      196        175       St. George,NY  Female  1982         Single   \n",
              "196      197        170  Upper West Side,NY  Female  2000        Married   \n",
              "197      198        160       St. George,NY  Female  2006         Single   \n",
              "198      199        130       St. George,NY    Male  2002        Married   \n",
              "199      200        140  Upper East Side,NY    Male  2005        Married   \n",
              "\n",
              "         Activity  Budget  Cuisines  Alcohol     Smoker  Food Rating  \\\n",
              "0    Professional       3  Japanese     Never     Never            5   \n",
              "1         Student       3    Indian     Never  Socially            1   \n",
              "2         Student       5   Seafood     Often     Often            5   \n",
              "3    Professional       5  Japanese     Never  Socially            3   \n",
              "4         Student       4  Filipino  Socially     Never            2   \n",
              "..            ...     ...       ...       ...       ...          ...   \n",
              "195  Professional       4    French     Never  Socially            1   \n",
              "196       Student       4   Chinese     Never     Often            1   \n",
              "197  Professional       5  Japanese     Never     Often            5   \n",
              "198       Student       3  Filipino     Never  Socially            3   \n",
              "199       Student       4    French     Never     Never            3   \n",
              "\n",
              "     Service Rating  Overall Rating Often A S  \n",
              "0                 4             4.5        No  \n",
              "1                 1             1.0        No  \n",
              "2                 5             5.0       Yes  \n",
              "3                 1             2.0        No  \n",
              "4                 4             3.0        No  \n",
              "..              ...             ...       ...  \n",
              "195               2             1.5        No  \n",
              "196               2             1.5        No  \n",
              "197               2             3.5        No  \n",
              "198               2             2.5        No  \n",
              "199               2             2.5        No  \n",
              "\n",
              "[200 rows x 15 columns]>"
            ]
          },
          "execution_count": 2,
          "metadata": {},
          "output_type": "execute_result"
        }
      ],
      "source": [
        "cuisines_df = pd.read_csv(\"Cuisine_rating.csv\") # Carregando os dados\n",
        "cuisines_df.head"
      ]
    },
    {
      "cell_type": "code",
      "execution_count": 3,
      "metadata": {
        "colab": {
          "base_uri": "https://localhost:8080/",
          "height": 300
        },
        "id": "myt5WYwwDzlX",
        "outputId": "d4852e7c-434c-4a2d-e25b-af2fb34da656"
      },
      "outputs": [
        {
          "data": {
            "text/html": [
              "<div>\n",
              "<style scoped>\n",
              "    .dataframe tbody tr th:only-of-type {\n",
              "        vertical-align: middle;\n",
              "    }\n",
              "\n",
              "    .dataframe tbody tr th {\n",
              "        vertical-align: top;\n",
              "    }\n",
              "\n",
              "    .dataframe thead th {\n",
              "        text-align: right;\n",
              "    }\n",
              "</style>\n",
              "<table border=\"1\" class=\"dataframe\">\n",
              "  <thead>\n",
              "    <tr style=\"text-align: right;\">\n",
              "      <th></th>\n",
              "      <th>User ID</th>\n",
              "      <th>Area code</th>\n",
              "      <th>YOB</th>\n",
              "      <th>Budget</th>\n",
              "      <th>Food Rating</th>\n",
              "      <th>Service Rating</th>\n",
              "      <th>Overall Rating</th>\n",
              "    </tr>\n",
              "  </thead>\n",
              "  <tbody>\n",
              "    <tr>\n",
              "      <th>count</th>\n",
              "      <td>200.000000</td>\n",
              "      <td>200.000000</td>\n",
              "      <td>200.000000</td>\n",
              "      <td>200.000000</td>\n",
              "      <td>200.000000</td>\n",
              "      <td>200.000000</td>\n",
              "      <td>200.000000</td>\n",
              "    </tr>\n",
              "    <tr>\n",
              "      <th>mean</th>\n",
              "      <td>100.500000</td>\n",
              "      <td>141.060000</td>\n",
              "      <td>1984.830000</td>\n",
              "      <td>3.815000</td>\n",
              "      <td>3.220000</td>\n",
              "      <td>3.230000</td>\n",
              "      <td>3.225000</td>\n",
              "    </tr>\n",
              "    <tr>\n",
              "      <th>std</th>\n",
              "      <td>57.879185</td>\n",
              "      <td>26.130257</td>\n",
              "      <td>16.809339</td>\n",
              "      <td>1.056578</td>\n",
              "      <td>1.411226</td>\n",
              "      <td>1.526022</td>\n",
              "      <td>1.079445</td>\n",
              "    </tr>\n",
              "    <tr>\n",
              "      <th>min</th>\n",
              "      <td>1.000000</td>\n",
              "      <td>101.000000</td>\n",
              "      <td>1955.000000</td>\n",
              "      <td>1.000000</td>\n",
              "      <td>1.000000</td>\n",
              "      <td>1.000000</td>\n",
              "      <td>1.000000</td>\n",
              "    </tr>\n",
              "    <tr>\n",
              "      <th>25%</th>\n",
              "      <td>50.750000</td>\n",
              "      <td>123.000000</td>\n",
              "      <td>1971.000000</td>\n",
              "      <td>3.000000</td>\n",
              "      <td>2.000000</td>\n",
              "      <td>2.000000</td>\n",
              "      <td>2.500000</td>\n",
              "    </tr>\n",
              "    <tr>\n",
              "      <th>50%</th>\n",
              "      <td>100.500000</td>\n",
              "      <td>135.000000</td>\n",
              "      <td>1987.000000</td>\n",
              "      <td>4.000000</td>\n",
              "      <td>3.000000</td>\n",
              "      <td>3.000000</td>\n",
              "      <td>3.000000</td>\n",
              "    </tr>\n",
              "    <tr>\n",
              "      <th>75%</th>\n",
              "      <td>150.250000</td>\n",
              "      <td>158.000000</td>\n",
              "      <td>2000.000000</td>\n",
              "      <td>5.000000</td>\n",
              "      <td>5.000000</td>\n",
              "      <td>5.000000</td>\n",
              "      <td>4.000000</td>\n",
              "    </tr>\n",
              "    <tr>\n",
              "      <th>max</th>\n",
              "      <td>200.000000</td>\n",
              "      <td>199.000000</td>\n",
              "      <td>2009.000000</td>\n",
              "      <td>5.000000</td>\n",
              "      <td>5.000000</td>\n",
              "      <td>5.000000</td>\n",
              "      <td>5.000000</td>\n",
              "    </tr>\n",
              "  </tbody>\n",
              "</table>\n",
              "</div>"
            ],
            "text/plain": [
              "          User ID   Area code          YOB      Budget  Food Rating  \\\n",
              "count  200.000000  200.000000   200.000000  200.000000   200.000000   \n",
              "mean   100.500000  141.060000  1984.830000    3.815000     3.220000   \n",
              "std     57.879185   26.130257    16.809339    1.056578     1.411226   \n",
              "min      1.000000  101.000000  1955.000000    1.000000     1.000000   \n",
              "25%     50.750000  123.000000  1971.000000    3.000000     2.000000   \n",
              "50%    100.500000  135.000000  1987.000000    4.000000     3.000000   \n",
              "75%    150.250000  158.000000  2000.000000    5.000000     5.000000   \n",
              "max    200.000000  199.000000  2009.000000    5.000000     5.000000   \n",
              "\n",
              "       Service Rating  Overall Rating  \n",
              "count      200.000000      200.000000  \n",
              "mean         3.230000        3.225000  \n",
              "std          1.526022        1.079445  \n",
              "min          1.000000        1.000000  \n",
              "25%          2.000000        2.500000  \n",
              "50%          3.000000        3.000000  \n",
              "75%          5.000000        4.000000  \n",
              "max          5.000000        5.000000  "
            ]
          },
          "execution_count": 3,
          "metadata": {},
          "output_type": "execute_result"
        }
      ],
      "source": [
        "cuisines_df.describe()"
      ]
    },
    {
      "cell_type": "code",
      "execution_count": 6,
      "metadata": {
        "colab": {
          "base_uri": "https://localhost:8080/",
          "height": 429
        },
        "id": "QEvv9TdFiFQm",
        "outputId": "6f5d3d75-d30d-4a6e-d0c6-54950a4e4ca1"
      },
      "outputs": [
        {
          "data": {
            "text/html": [
              "<div>\n",
              "<style scoped>\n",
              "    .dataframe tbody tr th:only-of-type {\n",
              "        vertical-align: middle;\n",
              "    }\n",
              "\n",
              "    .dataframe tbody tr th {\n",
              "        vertical-align: top;\n",
              "    }\n",
              "\n",
              "    .dataframe thead th {\n",
              "        text-align: right;\n",
              "    }\n",
              "</style>\n",
              "<table border=\"1\" class=\"dataframe\">\n",
              "  <thead>\n",
              "    <tr style=\"text-align: right;\">\n",
              "      <th></th>\n",
              "      <th>count</th>\n",
              "    </tr>\n",
              "    <tr>\n",
              "      <th>Location</th>\n",
              "      <th></th>\n",
              "    </tr>\n",
              "  </thead>\n",
              "  <tbody>\n",
              "    <tr>\n",
              "      <th>St. George,NY</th>\n",
              "      <td>46</td>\n",
              "    </tr>\n",
              "    <tr>\n",
              "      <th>Upper East Side,NY</th>\n",
              "      <td>30</td>\n",
              "    </tr>\n",
              "    <tr>\n",
              "      <th>Riverdale,NY</th>\n",
              "      <td>28</td>\n",
              "    </tr>\n",
              "    <tr>\n",
              "      <th>Central Park,NY</th>\n",
              "      <td>24</td>\n",
              "    </tr>\n",
              "    <tr>\n",
              "      <th>China Town, NY</th>\n",
              "      <td>22</td>\n",
              "    </tr>\n",
              "    <tr>\n",
              "      <th>Market City, NY</th>\n",
              "      <td>20</td>\n",
              "    </tr>\n",
              "    <tr>\n",
              "      <th>Upper West Side,NY</th>\n",
              "      <td>18</td>\n",
              "    </tr>\n",
              "    <tr>\n",
              "      <th>Central Park,ny</th>\n",
              "      <td>8</td>\n",
              "    </tr>\n",
              "    <tr>\n",
              "      <th>Market City, MY</th>\n",
              "      <td>2</td>\n",
              "    </tr>\n",
              "    <tr>\n",
              "      <th>Cedar Hill, NY</th>\n",
              "      <td>2</td>\n",
              "    </tr>\n",
              "  </tbody>\n",
              "</table>\n",
              "</div><br><label><b>dtype:</b> int64</label>"
            ],
            "text/plain": [
              "Location\n",
              "St. George,NY         46\n",
              "Upper East Side,NY    30\n",
              "Riverdale,NY          28\n",
              "Central Park,NY       24\n",
              "China Town, NY        22\n",
              "Market City, NY       20\n",
              "Upper West Side,NY    18\n",
              "Central Park,ny        8\n",
              "Market City, MY        2\n",
              "Cedar Hill, NY         2\n",
              "Name: count, dtype: int64"
            ]
          },
          "execution_count": 6,
          "metadata": {},
          "output_type": "execute_result"
        }
      ],
      "source": [
        "cuisines_df['Location'].value_counts()"
      ]
    }
  ],
  "metadata": {
    "colab": {
      "provenance": []
    },
    "kernelspec": {
      "display_name": "Python 3",
      "name": "python3"
    },
    "language_info": {
      "codemirror_mode": {
        "name": "ipython",
        "version": 3
      },
      "file_extension": ".py",
      "mimetype": "text/x-python",
      "name": "python",
      "nbconvert_exporter": "python",
      "pygments_lexer": "ipython3",
      "version": "3.13.7"
    }
  },
  "nbformat": 4,
  "nbformat_minor": 0
}
